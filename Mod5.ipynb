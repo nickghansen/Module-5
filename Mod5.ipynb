{
 "cells": [
  {
   "cell_type": "code",
   "execution_count": 133,
   "metadata": {},
   "outputs": [],
   "source": [
    "#imports\n",
    "import pandas as pd\n",
    "import numpy as np\n",
    "import matplotlib.pyplot as plt\n",
    "%matplotlib inline"
   ]
  },
  {
   "cell_type": "raw",
   "metadata": {},
   "source": [
    "#Note: Values Included from Compustat\n",
    "Company Name\n",
    "Stock Exchange Code\n",
    "SIC\n",
    "ACT\n",
    "LCT\n",
    "AT\n",
    "EBITDA\n",
    "CEQ\n",
    "NINC\n",
    "DLC\n",
    "DLTT\n",
    "CIK"
   ]
  },
  {
   "cell_type": "code",
   "execution_count": 134,
   "metadata": {},
   "outputs": [],
   "source": [
    "#reads in csv\n",
    "data=pd.read_csv('Mod5.csv')"
   ]
  },
  {
   "cell_type": "code",
   "execution_count": 135,
   "metadata": {},
   "outputs": [],
   "source": [
    "#makes column names more useful\n",
    "data.columns=(['gvkey', 'indfmt', 'datafmt', 'consol', 'popsrc', 'fyear', 'datadate',\n",
    "       'CurrentAssets', 'TotalAssets', 'TotalEquity', 'CurrentDebt', 'LTDebt', 'ebitda', 'CurrentLiabilities', 'exchg', 'NetIncome',\n",
    "       'conm', 'costat', 'fic','cik', 'sic'])\n",
    "#establishes total debt column\n",
    "data['TotalDebt']=data['CurrentDebt']+data['LTDebt']\n",
    "#filters out companies w/o CIK codes\n",
    "data = data[pd.notnull(data['cik'])]\n",
    "#converts cik from float to int--easier to c/p into EDGAR\n",
    "data.cik=data.cik.astype(int)"
   ]
  },
  {
   "cell_type": "code",
   "execution_count": 136,
   "metadata": {},
   "outputs": [],
   "source": [
    "#makes ratios\n",
    "data['CurrentRatio']=data['CurrentAssets']/data['CurrentLiabilities']\n",
    "data['DebtToAssets']=data['TotalDebt']/data['TotalAssets']\n",
    "data['DebtToEBITDA']=data['TotalDebt']/data['ebitda']\n",
    "data['AssetsToEquity']=data['TotalAssets']/data['TotalEquity']\n",
    "data['ReturnOnEquity']=data['NetIncome']/data['TotalEquity']\n",
    "data['ReturnOnAssets']=data['NetIncome']/data['TotalAssets']"
   ]
  },
  {
   "cell_type": "code",
   "execution_count": 137,
   "metadata": {},
   "outputs": [],
   "source": [
    "#table w/ just ratios\n",
    "ratios=data[['conm','fyear','CurrentRatio','DebtToAssets','DebtToEBITDA','AssetsToEquity','ReturnOnEquity','ReturnOnAssets']]"
   ]
  },
  {
   "cell_type": "code",
   "execution_count": 138,
   "metadata": {},
   "outputs": [],
   "source": [
    "#chooses year\n",
    "ratios2015=ratios[ratios.fyear==2015][['conm','CurrentRatio','DebtToAssets','DebtToEBITDA','AssetsToEquity','ReturnOnEquity','ReturnOnAssets']].set_index('conm')\n",
    "#summary stats\n",
    "summary=ratios2015.describe()"
   ]
  },
  {
   "cell_type": "code",
   "execution_count": 139,
   "metadata": {},
   "outputs": [
    {
     "data": {
      "text/html": [
       "<div>\n",
       "<style scoped>\n",
       "    .dataframe tbody tr th:only-of-type {\n",
       "        vertical-align: middle;\n",
       "    }\n",
       "\n",
       "    .dataframe tbody tr th {\n",
       "        vertical-align: top;\n",
       "    }\n",
       "\n",
       "    .dataframe thead th {\n",
       "        text-align: right;\n",
       "    }\n",
       "</style>\n",
       "<table border=\"1\" class=\"dataframe\">\n",
       "  <thead>\n",
       "    <tr style=\"text-align: right;\">\n",
       "      <th></th>\n",
       "      <th>CurrentRatio</th>\n",
       "      <th>DebtToAssets</th>\n",
       "      <th>DebtToEBITDA</th>\n",
       "      <th>AssetsToEquity</th>\n",
       "      <th>ReturnOnEquity</th>\n",
       "      <th>ReturnOnAssets</th>\n",
       "    </tr>\n",
       "  </thead>\n",
       "  <tbody>\n",
       "    <tr>\n",
       "      <th>count</th>\n",
       "      <td>38.000000</td>\n",
       "      <td>38.000000</td>\n",
       "      <td>38.000000</td>\n",
       "      <td>38.000000</td>\n",
       "      <td>1.000000</td>\n",
       "      <td>1.000000</td>\n",
       "    </tr>\n",
       "    <tr>\n",
       "      <th>mean</th>\n",
       "      <td>2.076250</td>\n",
       "      <td>0.450360</td>\n",
       "      <td>-2.594385</td>\n",
       "      <td>1.532300</td>\n",
       "      <td>0.002888</td>\n",
       "      <td>0.001938</td>\n",
       "    </tr>\n",
       "    <tr>\n",
       "      <th>std</th>\n",
       "      <td>1.907342</td>\n",
       "      <td>0.610104</td>\n",
       "      <td>15.507595</td>\n",
       "      <td>4.506657</td>\n",
       "      <td>NaN</td>\n",
       "      <td>NaN</td>\n",
       "    </tr>\n",
       "    <tr>\n",
       "      <th>min</th>\n",
       "      <td>0.006012</td>\n",
       "      <td>0.000000</td>\n",
       "      <td>-71.867250</td>\n",
       "      <td>-21.513143</td>\n",
       "      <td>0.002888</td>\n",
       "      <td>0.001938</td>\n",
       "    </tr>\n",
       "    <tr>\n",
       "      <th>25%</th>\n",
       "      <td>1.085720</td>\n",
       "      <td>0.165887</td>\n",
       "      <td>-0.576090</td>\n",
       "      <td>1.323586</td>\n",
       "      <td>0.002888</td>\n",
       "      <td>0.001938</td>\n",
       "    </tr>\n",
       "    <tr>\n",
       "      <th>50%</th>\n",
       "      <td>1.640455</td>\n",
       "      <td>0.361521</td>\n",
       "      <td>0.754459</td>\n",
       "      <td>2.157869</td>\n",
       "      <td>0.002888</td>\n",
       "      <td>0.001938</td>\n",
       "    </tr>\n",
       "    <tr>\n",
       "      <th>75%</th>\n",
       "      <td>2.433955</td>\n",
       "      <td>0.540118</td>\n",
       "      <td>3.727194</td>\n",
       "      <td>2.959510</td>\n",
       "      <td>0.002888</td>\n",
       "      <td>0.001938</td>\n",
       "    </tr>\n",
       "    <tr>\n",
       "      <th>max</th>\n",
       "      <td>10.783467</td>\n",
       "      <td>3.761293</td>\n",
       "      <td>13.078313</td>\n",
       "      <td>8.299592</td>\n",
       "      <td>0.002888</td>\n",
       "      <td>0.001938</td>\n",
       "    </tr>\n",
       "  </tbody>\n",
       "</table>\n",
       "</div>"
      ],
      "text/plain": [
       "       CurrentRatio  DebtToAssets  DebtToEBITDA  AssetsToEquity  \\\n",
       "count     38.000000     38.000000     38.000000       38.000000   \n",
       "mean       2.076250      0.450360     -2.594385        1.532300   \n",
       "std        1.907342      0.610104     15.507595        4.506657   \n",
       "min        0.006012      0.000000    -71.867250      -21.513143   \n",
       "25%        1.085720      0.165887     -0.576090        1.323586   \n",
       "50%        1.640455      0.361521      0.754459        2.157869   \n",
       "75%        2.433955      0.540118      3.727194        2.959510   \n",
       "max       10.783467      3.761293     13.078313        8.299592   \n",
       "\n",
       "       ReturnOnEquity  ReturnOnAssets  \n",
       "count        1.000000        1.000000  \n",
       "mean         0.002888        0.001938  \n",
       "std               NaN             NaN  \n",
       "min          0.002888        0.001938  \n",
       "25%          0.002888        0.001938  \n",
       "50%          0.002888        0.001938  \n",
       "75%          0.002888        0.001938  \n",
       "max          0.002888        0.001938  "
      ]
     },
     "execution_count": 139,
     "metadata": {},
     "output_type": "execute_result"
    }
   ],
   "source": [
    "#displays summary statistics\n",
    "summary"
   ]
  },
  {
   "cell_type": "code",
   "execution_count": 152,
   "metadata": {},
   "outputs": [
    {
     "name": "stdout",
     "output_type": "stream",
     "text": [
      "Company With The Highest: CurrentRatio\n",
      "\n",
      "CurrentRatio      10.783467\n",
      "DebtToAssets       0.321866\n",
      "DebtToEBITDA      -1.599461\n",
      "AssetsToEquity     2.597971\n",
      "ReturnOnEquity          NaN\n",
      "ReturnOnAssets          NaN\n",
      "Name: AUSTEX OIL LTD, dtype: float64\n",
      "\n",
      "Company With The Highest: DebtToAssets\n",
      "\n",
      "CurrentRatio       0.006012\n",
      "DebtToAssets       3.761293\n",
      "DebtToEBITDA     -53.300761\n",
      "AssetsToEquity    -0.065112\n",
      "ReturnOnEquity          NaN\n",
      "ReturnOnAssets          NaN\n",
      "Name: OLEO E GAS PART SA, dtype: float64\n",
      "\n",
      "Company With The Highest: DebtToEBITDA\n",
      "\n",
      "CurrentRatio       0.799746\n",
      "DebtToAssets       0.399105\n",
      "DebtToEBITDA      13.078313\n",
      "AssetsToEquity     4.697467\n",
      "ReturnOnEquity          NaN\n",
      "ReturnOnAssets          NaN\n",
      "Name: SAIPEM SPA, dtype: float64\n",
      "\n",
      "Company With The Highest: AssetsToEquity\n",
      "\n",
      "CurrentRatio      0.579256\n",
      "DebtToAssets      0.748026\n",
      "DebtToEBITDA      6.066019\n",
      "AssetsToEquity    8.299592\n",
      "ReturnOnEquity         NaN\n",
      "ReturnOnAssets         NaN\n",
      "Name: NORTH ATLANTIC DRILLING LTD, dtype: float64\n",
      "\n",
      "Company With The Highest: ReturnOnEquity\n",
      "\n",
      "CurrentRatio      3.084493\n",
      "DebtToAssets      0.169701\n",
      "DebtToEBITDA      1.533137\n",
      "AssetsToEquity    1.489942\n",
      "ReturnOnEquity    0.002888\n",
      "ReturnOnAssets    0.001938\n",
      "Name: INPEX CORP, dtype: float64\n",
      "\n",
      "Company With The Highest: ReturnOnAssets\n",
      "\n",
      "CurrentRatio      3.084493\n",
      "DebtToAssets      0.169701\n",
      "DebtToEBITDA      1.533137\n",
      "AssetsToEquity    1.489942\n",
      "ReturnOnEquity    0.002888\n",
      "ReturnOnAssets    0.001938\n",
      "Name: INPEX CORP, dtype: float64\n",
      "\n"
     ]
    }
   ],
   "source": [
    "#goes through companies with max ratios, good for identifying outliers\n",
    "for i in summary.columns:\n",
    "    print(\"Company With The Highest:\"+\" \"+i)\n",
    "    print()\n",
    "    print(ratios2015.sort_values(i,ascending=False).iloc[0])\n",
    "    print()"
   ]
  },
  {
   "cell_type": "raw",
   "metadata": {},
   "source": [
    "Let's choose the companies with the max ratios in Current Ratio, Debt to Assets, and Debt to EBITDA. It's probably best to avoid the latter two ratio due to small n.\n",
    "That would be AUSTEX OIL LTD, with the highest Current Ratio of 10.8, OLEO E GAS PART SA, with the highest Debt to Assets Ratio of  3.7, and SAIPEM SPA, with the highest Debt to EBITDA ratio of 13.1"
   ]
  },
  {
   "cell_type": "code",
   "execution_count": 148,
   "metadata": {},
   "outputs": [],
   "source": [
    "#list of companies to investigate\n",
    "companies=['AUSTEX OIL LTD','OLEO E GAS PART SA','SAIPEM SPA']"
   ]
  },
  {
   "cell_type": "code",
   "execution_count": 151,
   "metadata": {},
   "outputs": [
    {
     "name": "stdout",
     "output_type": "stream",
     "text": [
      "1525199\n",
      "1595225\n",
      "1062750\n"
     ]
    }
   ],
   "source": [
    "#returns CIK for companies to investigate:\n",
    "for company in companies:\n",
    "    print(data[data.fyear==2015].set_index('conm')['cik'].loc[company])"
   ]
  },
  {
   "cell_type": "raw",
   "metadata": {},
   "source": [
    "Each company appears to be a  filer with extremely limited reports--none from 2015, and none of the typical forms I would expect (eg 10-K, 10-Q). This is largely a mystery!\n"
   ]
  }
 ],
 "metadata": {
  "kernelspec": {
   "display_name": "Python 3",
   "language": "python",
   "name": "python3"
  },
  "language_info": {
   "codemirror_mode": {
    "name": "ipython",
    "version": 3
   },
   "file_extension": ".py",
   "mimetype": "text/x-python",
   "name": "python",
   "nbconvert_exporter": "python",
   "pygments_lexer": "ipython3",
   "version": "3.6.5"
  }
 },
 "nbformat": 4,
 "nbformat_minor": 2
}
